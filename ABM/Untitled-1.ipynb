{
 "cells": [
  {
   "cell_type": "code",
   "execution_count": 37,
   "metadata": {},
   "outputs": [
    {
     "name": "stdout",
     "output_type": "stream",
     "text": [
      "The autoreload extension is already loaded. To reload it, use:\n",
      "  %reload_ext autoreload\n"
     ]
    }
   ],
   "source": [
    "## import auto reload\n",
    "%load_ext autoreload\n",
    "%autoreload 2\n",
    "\n",
    "from simulation import run_simulation, initialize_simulation, MetricsHandler, InteractionHandler"
   ]
  },
  {
   "cell_type": "code",
   "execution_count": 39,
   "metadata": {},
   "outputs": [],
   "source": [
    "num_employees = 100\n",
    "num_teams = 10\n",
    "min_team_size = 8\n",
    "num_friendships = 5\n",
    "num_spaces = 20\n",
    "space_types = [\"Workstation\"] * 10 + [\"Meeting Room\"] * 5 + [\"Break Area\"] * 3 + [\"Quiet Area\"] * 2\n",
    "space_capacities = [8] * 10 + [15] * 5 + [20] * 3 + [10] * 2\n",
    "hierarchy_levels = 5\n",
    "hierarchy_adjustment_factor = 0.1\n",
    "\n",
    "emps, spaces, team_graph, friendship_graph = initialize_simulation(num_employees, num_teams, min_team_size,\n",
    "                                                                   num_friendships, num_spaces, space_types, space_capacities, hierarchy_levels, hierarchy_adjustment_factor)\n",
    "\n",
    "# run_simulation(emps, spaces, 10, initial_info_holder=6, team_graph=team_graph, friendship_graph=friendship_graph)\n"
   ]
  },
  {
   "cell_type": "code",
   "execution_count": null,
   "metadata": {},
   "outputs": [],
   "source": [
    "def run_simulation(emps, spaces, time_steps, initial_info_holder, team_graph, friendship_graph):\n",
    "    emps[initial_info_holder - 1].info.add(\"Important Information\") ## add initial information\n",
    "\n",
    "    ## initialize handlers\n",
    "    interaction_handler = InteractionHandler(team_graph, friendship_graph)\n",
    "    metrics_handler = MetricsHandler(emps, spaces)\n",
    "\n",
    "    ## add metricshandler to employees\n",
    "    for emp in emps:\n",
    "        emp.metrics_handler = metrics_handler\n",
    "\n",
    "    ## run simulation\n",
    "    for t in range(time_steps):\n",
    "        # Update employee locations\n",
    "        for emp in emps:\n",
    "            cur_space = emp.loc\n",
    "            if cur_space is not None:\n",
    "                cur_space.remove_occupant(emp)\n",
    "\n",
    "            emp.move(spaces, threshold=3, timestep=t)\n",
    "            new_space = emp.loc\n",
    "            new_space.add_occupant(emp)\n",
    "\n",
    "        # Simulate interactions between employees in the same space\n",
    "        interaction_handler.handle_interactions(spaces, timestep=t)\n",
    "\n",
    "        # Calculate and print metrics\n",
    "        informed_count, informed_percentage = metrics_handler.calculate_metrics()\n",
    "        metrics_handler.print_simulation_state(t, informed_count, informed_percentage)"
   ]
  }
 ],
 "metadata": {
  "kernelspec": {
   "display_name": "Python 3.9.7 ('omscs')",
   "language": "python",
   "name": "python3"
  },
  "language_info": {
   "codemirror_mode": {
    "name": "ipython",
    "version": 3
   },
   "file_extension": ".py",
   "mimetype": "text/x-python",
   "name": "python",
   "nbconvert_exporter": "python",
   "pygments_lexer": "ipython3",
   "version": "3.9.7"
  },
  "orig_nbformat": 4,
  "vscode": {
   "interpreter": {
    "hash": "13249e0708cbbcf5660db98314db2ee4d5fd5aff4f630dea370611bf8eb4a014"
   }
  }
 },
 "nbformat": 4,
 "nbformat_minor": 2
}
