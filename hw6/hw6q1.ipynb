{
 "cells": [
  {
   "attachments": {},
   "cell_type": "markdown",
   "metadata": {},
   "source": [
    "### Problem 1. Closed form solution for Ridge Regression (5 points)"
   ]
  },
  {
   "attachments": {},
   "cell_type": "markdown",
   "metadata": {},
   "source": [
    "The Ridge objective function in matrix form.\n",
    "\n",
    "$\\hat{\\boldsymbol{\\beta}}_{\\text{ridge}} = \\underset{\\boldsymbol{\\beta}}{\\text{argmin}} \\left(\\frac{1}{2} || \\boldsymbol{y} - \\boldsymbol{X}\\boldsymbol{\\beta}||^2_2 + \\frac{\\lambda}{2} ||\\boldsymbol{\\beta}||^2_2 \\right)$\n",
    "\n",
    "Take the derivative w.r.t $\\beta$, set it to 0\n",
    "\n",
    "$\\frac{\\partial}{\\partial \\boldsymbol{\\beta}} \\left(\\frac{1}{2} ||\\boldsymbol{y} - \\boldsymbol{X}\\boldsymbol{\\beta}||^2_2 + \\frac{\\lambda}{2} ||\\boldsymbol{\\beta}||^2_2 \\right) = 0$\n",
    "\n",
    "$-\\boldsymbol{X}^T(\\boldsymbol{y} - \\boldsymbol{X}\\boldsymbol{\\beta}) + \\lambda\\boldsymbol{\\beta} = 0$\n",
    "\n",
    "$\\boldsymbol{X}^T\\boldsymbol{y} = (\\boldsymbol{X}^T\\boldsymbol{X} + \\lambda \\boldsymbol{I}_p)\\boldsymbol{\\beta}$\n",
    "\n",
    "Solve for $\\beta$. Multiply both sides by the inverse of $(\\boldsymbol{X}^T\\boldsymbol{X} + \\lambda \\boldsymbol{I}_p)$:\n",
    "\n",
    "$(\\boldsymbol{X}^T\\boldsymbol{X} + \\lambda \\boldsymbol{I}_p)^{-1}\\boldsymbol{X}^T\\boldsymbol{y} = \\boldsymbol{\\beta}$\n",
    "\n",
    "We get:\n",
    "\n",
    "$\\hat{\\boldsymbol{\\beta}} = (\\boldsymbol{X}^T\\boldsymbol{X} + \\lambda \\boldsymbol{I}_p)^{-1}\\boldsymbol{X}^T\\boldsymbol{y}$\n",
    "\n",
    "\n"
   ]
  }
 ],
 "metadata": {
  "language_info": {
   "name": "python"
  },
  "orig_nbformat": 4
 },
 "nbformat": 4,
 "nbformat_minor": 2
}
